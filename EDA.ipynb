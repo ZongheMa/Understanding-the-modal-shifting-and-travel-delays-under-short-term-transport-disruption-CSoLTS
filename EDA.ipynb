{
 "cells": [
  {
   "cell_type": "markdown",
   "source": [
    "# Understanding the modal shifting and travel delays under short-term transport disruption – a case study of London tube strike"
   ],
   "metadata": {
    "collapsed": false
   },
   "id": "8027542426232cfe"
  },
  {
   "cell_type": "code",
   "outputs": [],
   "source": [
    "import os\n",
    "import pandas as pd\n",
    "import numpy as np\n",
    "from datetime import datetime\n",
    "import geopandas as gpd\n",
    "import matplotlib.pyplot as plt\n",
    "from defined_methods import merge_csv, merge_csv_flow"
   ],
   "metadata": {
    "collapsed": false,
    "ExecuteTime": {
     "end_time": "2024-01-22T15:02:44.682385Z",
     "start_time": "2024-01-22T15:02:43.821927Z"
    }
   },
   "id": "3d96e3edb1ff1a47",
   "execution_count": 1
  },
  {
   "cell_type": "markdown",
   "source": [
    "# Data preparation"
   ],
   "metadata": {
    "collapsed": false
   },
   "id": "3c13e0064bc6e9ef"
  },
  {
   "cell_type": "code",
   "execution_count": null,
   "outputs": [],
   "source": [
    "# read the administrative relationship encoding file\n",
    "admin_rel = pd.read_csv(\n",
    "    '/Users/zonghe/Library/CloudStorage/OneDrive-UnitedNationsDevelopmentProgramme/Paper/Tube Strike Behaviour/oa_lsoa_msoa_la_trans.csv')\n",
    "admin_rel"
   ],
   "metadata": {
    "collapsed": false
   },
   "id": "f8959cc81b8c92b0"
  },
  {
   "cell_type": "code",
   "outputs": [],
   "source": [
    "# read the spatial administrative boundary files\n",
    "oa = gpd.read_file(\n",
    "    '/Users/zonghe/Library/CloudStorage/OneDrive-UnitedNationsDevelopmentProgramme/Paper/Tube Strike Behaviour/lon_oa.gpkg')\n",
    "# lsoa = gpd.read_file(\n",
    "#     '/Users/zonghe/Library/CloudStorage/OneDrive-UnitedNationsDevelopmentProgramme/Paper/Tube Strike Behaviour/lon_lsoa.gpkg')\n",
    "msoa = gpd.read_file(\n",
    "    '/Users/zonghe/Library/CloudStorage/OneDrive-UnitedNationsDevelopmentProgramme/Paper/Tube Strike Behaviour/lon_msoa.gpkg')\n",
    "msoa.plot()\n",
    "plt.axis('off')\n"
   ],
   "metadata": {
    "collapsed": false
   },
   "id": "8cab01e4aa6012e1",
   "execution_count": null
  },
  {
   "cell_type": "code",
   "outputs": [],
   "source": [
    "msoa"
   ],
   "metadata": {
    "collapsed": false
   },
   "id": "132b978807c81d91",
   "execution_count": null
  },
  {
   "cell_type": "markdown",
   "source": [
    "## Individual"
   ],
   "metadata": {
    "collapsed": false
   },
   "id": "aa8bbb328c2b9eec"
  },
  {
   "cell_type": "code",
   "outputs": [],
   "source": [
    "device = merge_csv(\n",
    "    '/Users/zonghe/Library/CloudStorage/OneDrive-UnitedNationsDevelopmentProgramme/Paper/Tube Strike Behaviour/travel_info_oa/device')\n",
    "stay_time = merge_csv(\n",
    "    '/Users/zonghe/Library/CloudStorage/OneDrive-UnitedNationsDevelopmentProgramme/Paper/Tube Strike Behaviour/travel_info_oa/stay time')\n",
    "travel_time = merge_csv(\n",
    "    '/Users/zonghe/Library/CloudStorage/OneDrive-UnitedNationsDevelopmentProgramme/Paper/Tube Strike Behaviour/travel_info_oa/travel time')\n",
    "# drop the na values in the stay time dataset\n",
    "stay_time = stay_time.dropna()\n",
    "# convert the stay time from seconds to hours\n",
    "stay_time['stay_time'] = stay_time['stay_time'].astype(int) / 3600\n"
   ],
   "metadata": {
    "collapsed": false
   },
   "id": "fe365347f13804cc",
   "execution_count": null
  },
  {
   "cell_type": "code",
   "execution_count": null,
   "outputs": [],
   "source": [
    "# Filtering for March 1, 2022, and March 3, 2022\n",
    "\n",
    "device_313 = device[(device['date'] == '02/22/22') | (device['date'] == '03/01/22') | (device['date'] == '03/03/22')].copy().reset_index(drop=True)\n",
    "device_313['date'] = pd.to_datetime(device_313['date'], format='%m/%d/%y').dt.strftime('%m/%d/%y')\n",
    "\n",
    "stay_time_313 = stay_time[(stay_time['date'] == '02/22/22') | (stay_time['date'] == '03/01/22') | (stay_time['date'] == '03/03/22')].copy().reset_index(\n",
    "    drop=True)\n",
    "stay_time_313['date'] = pd.to_datetime(stay_time_313['date'], format='%m/%d/%y').dt.strftime('%m/%d/%y')\n",
    "\n",
    "travel_time_313 = travel_time[\n",
    "    (travel_time['date'] == '02/22/22') | (travel_time['date'] == '03/01/22') | (travel_time['date'] == '03/03/22')].copy().reset_index(drop=True)\n",
    "travel_time_313['date'] = pd.to_datetime(travel_time_313['date'], format='%m/%d/%y').dt.strftime('%m/%d/%y')"
   ],
   "metadata": {
    "collapsed": false
   },
   "id": "cbe7d642d35dae23"
  },
  {
   "cell_type": "code",
   "execution_count": null,
   "outputs": [],
   "source": [
    "# Device related behavioral test\n",
    "test_device_lable = device_313['startid'].unique()[1]\n",
    "# print(test_device_lable)\n",
    "test_device = device_313[device_313['startid'] == test_device_lable]\n",
    "# print(test_device)\n",
    "test_device_stay = stay_time_313[stay_time_313['startid'] == test_device_lable]\n",
    "# print(test_device_stay)\n",
    "test_device_modes = travel_time_313[travel_time_313['startid'] == test_device_lable]\n",
    "# print(test_device_travel)\n",
    "# merge the test device status, stay time and travel time\n",
    "test_device_status = pd.merge(test_device, test_device_stay, on=['startid', 'date', 'oa21cd', 'device_type'],\n",
    "                              how='left')\n",
    "test_device = test_device.drop_duplicates().reset_index(drop=True)\n",
    "test_device_status"
   ],
   "metadata": {
    "collapsed": false
   },
   "id": "718964777d5cc3a1"
  },
  {
   "cell_type": "code",
   "outputs": [],
   "source": [
    "test_device_modes"
   ],
   "metadata": {
    "collapsed": false
   },
   "id": "33f729ea02986350",
   "execution_count": null
  },
  {
   "cell_type": "markdown",
   "source": [
    "### Device behaviour calculation"
   ],
   "metadata": {
    "collapsed": false
   },
   "id": "e7d203cfd2c27a9f"
  },
  {
   "cell_type": "code",
   "outputs": [],
   "source": [
    "device_313_status = pd.merge(device_313, stay_time_313, on=['startid', 'date', 'oa21cd', 'device_type'], how='left')\n",
    "device_313_status = device_313_status.drop_duplicates().reset_index(drop=True)\n",
    "# insert the MSOA and LSOA column from 'admin_rel'\n",
    "device_313_status = pd.merge(device_313_status, admin_rel[['oa21cd', 'msoa21cd','lsoa21cd']], on=['oa21cd'], how='left')\n",
    "device_313_status = device_313_status.drop_duplicates().reset_index(drop=True)\n",
    "\n",
    "device_313_modes = travel_time_313.groupby(['startid', 'date', 'update_mode']).agg(\n",
    "    {'time': 'sum', 'distance': 'sum'}).reset_index()"
   ],
   "metadata": {
    "collapsed": false
   },
   "id": "60c8815690479268",
   "execution_count": null
  },
  {
   "cell_type": "code",
   "outputs": [],
   "source": [
    "device_313_status"
   ],
   "metadata": {
    "collapsed": false
   },
   "id": "d5c833c7121468de",
   "execution_count": null
  },
  {
   "cell_type": "code",
   "outputs": [],
   "source": [
    "device_313_modes"
   ],
   "metadata": {
    "collapsed": false
   },
   "id": "dd3a368a5959ae68",
   "execution_count": null
  },
  {
   "cell_type": "markdown",
   "source": [
    "## System"
   ],
   "metadata": {
    "collapsed": false
   },
   "id": "471fca0119f5e8a4"
  },
  {
   "cell_type": "code",
   "outputs": [],
   "source": [
    "traffic_flows = merge_csv_flow(\n",
    "    '/Users/zonghe/Library/CloudStorage/OneDrive-UniversityCollegeLondon/Zonghe Ma/Zonghe Ma-STA-Investigating the relationship between modal shifting and road transport resilience under Tube strikes/Raw data/[XH]Traffic flow')\n",
    "road_network = '/Users/zonghe/Library/CloudStorage/OneDrive-UniversityCollegeLondon/Zonghe Ma/Zonghe Ma-STA-Investigating the relationship between modal shifting and road transport resilience under Tube strikes/Raw data/[XH]road_network/road_network.shp'\n",
    "\n",
    "# clean the traffic flow data\n",
    "traffic_flows = traffic_flows.drop_duplicates(['toid', 'date'])\n",
    "traffic_flows = traffic_flows.groupby(['toid', 'date']).agg(\n",
    "    {'bus': 'sum', 'car': 'sum', 'cycle': 'sum', 'walks': 'sum', 'stationary': 'sum'}).reset_index()\n",
    "\n",
    "lsoa = '/Users/zonghe/Library/CloudStorage/OneDrive-UniversityCollegeLondon/Zonghe Ma/Zonghe Ma-STA-Investigating the relationship between modal shifting and road transport resilience under Tube strikes/Raw data/London administrative boundaries/london_LSOA/london_LSOA.shp'\n",
    "\n",
    "inoutter = '/Users/zonghe/Library/CloudStorage/OneDrive-UniversityCollegeLondon/Zonghe Ma/Zonghe Ma-STA-Investigating the relationship between modal shifting and road transport resilience under Tube strikes/Raw data/London administrative boundaries/lp-consultation-oct-2009-inner-outer-london-shp/lp-consultation-oct-2009-inner-outer-london.shp'\n",
    "# tube_line = 'https://raw.githubusercontent.com/oobrien/vis/master/tubecreature/data/tfl_lines.json'\n",
    "# tube_station = 'https://raw.githubusercontent.com/oobrien/vis/master/tubecreature/data/tfl_stations.json'\n",
    "\n",
    "inoutter = gpd.read_file(inoutter)\n",
    "inoutter.to_crs(epsg=27700, inplace=True)\n",
    "\n",
    "lsoa = gpd.read_file(lsoa, crs={'init': 'epsg:27700'})\n",
    "road_network = gpd.read_file(road_network, crs={'init': 'epsg:27700'})\n",
    "road_network.rename(columns={'NAME': 'boroughs'}, inplace=True)\n",
    "road_network.loc[:, ['cycle_lane', 'bus_lane']] = road_network[['cycle_lane', 'bus_lane']].fillna('n')\n",
    "\n",
    "# clean the traffic flow data\n",
    "traffic_flows = traffic_flows.drop_duplicates(['toid', 'date'])\n",
    "traffic_flows = traffic_flows.groupby(['toid', 'date']).agg(\n",
    "    {'bus': 'sum', 'car': 'sum', 'cycle': 'sum', 'walks': 'sum', 'stationary': 'sum'}).reset_index()\n",
    "traffic_flows['total'] = traffic_flows['bus'] + traffic_flows['car'] + traffic_flows['cycle'] + traffic_flows[\n",
    "    'walks'] + traffic_flows['stationary']\n",
    "\n",
    "flows = pd.merge(\n",
    "    road_network[\n",
    "        ['toid', 'roadclassi', 'geometry', 'cycle_lane', 'bus_lane', 'boroughs', 'directiona', 'length', 'roadwidtha',\n",
    "         'elevationg']],\n",
    "    traffic_flows, left_on='toid', right_on='toid', how='left')\n",
    "flows.set_geometry('geometry', inplace=True)\n",
    "\n",
    "flows['classification'] = flows['roadclassi'].replace(\n",
    "    {'Unknown': 'Local Road', 'Not Classified': 'Local Road', 'Unclassified': 'Local Road',\n",
    "     'Classified Unnumbered': 'Local Road', 'A Road': 'Strategic Road', 'B Road': 'Strategic Road'})\n",
    "\n",
    "flows.drop(columns=['roadclassi'], inplace=True)\n",
    "\n",
    "stage_date = ['03/01/22', '02/22/22', '03/08/22']\n",
    "flows = flows.loc[flows['date'].isin(stage_date)]\n",
    "\n",
    "# label the regional level\n",
    "flows = gpd.sjoin(flows, inoutter, how='inner', predicate='within')\n",
    "flows = flows.drop(columns=['index_right', 'Source', 'Area_Ha', 'Shape_Leng', 'Shape_Area'])\n",
    "flows.reset_index(drop=True, inplace=True)\n",
    "\n",
    "regression = flows\n",
    "\n",
    "# convert the dataframe\n",
    "flows = pd.melt(flows,\n",
    "                id_vars=['toid', 'classification', 'geometry', 'date', 'Boundary', 'cycle_lane', 'bus_lane',\n",
    "                         'boroughs', 'directiona', 'length', 'roadwidtha', 'elevationg'],\n",
    "                var_name='mode', value_name='flow')\n",
    "\n",
    "flows = pd.pivot_table(flows,\n",
    "                       index=['toid', 'classification', 'geometry', 'Boundary', 'mode', 'cycle_lane', 'bus_lane',\n",
    "                              'boroughs', 'directiona', 'length', 'roadwidtha', 'elevationg'],\n",
    "                       columns='date',\n",
    "                       values='flow',\n",
    "                       aggfunc='first').reset_index()\n",
    "\n",
    "flows = flows.groupby(\n",
    "    ['toid', 'mode', 'classification', 'geometry', 'Boundary', 'cycle_lane', 'bus_lane', 'boroughs', 'directiona',\n",
    "     'length', 'roadwidtha', 'elevationg'],\n",
    "    as_index=False).agg(\n",
    "    {'03/01/22': 'first', '02/22/22': 'first', '03/08/22': 'first'})\n",
    "# Calculate the impact and recovery flows for one strike\n",
    "flows['impact_flow'] = flows['03/01/22'] - flows['02/22/22']\n",
    "flows['recovery_flow'] = flows['03/08/22'] - flows['03/01/22']\n",
    "\n",
    "# Calculate impact rate while avoiding division by zero\n",
    "flows['impact_rate'] = flows.apply(\n",
    "    lambda row: round(row['impact_flow'] / row['02/22/22'], 4) if row['02/22/22'] != 0 else 0, axis=1)\n",
    "# Calculate recovery rate while avoiding division by zero\n",
    "flows['recovery_rate'] = flows.apply(\n",
    "    lambda row: round(row['recovery_flow'] / row['03/01/22'], 4) if row['03/01/22'] != 0 else 0, axis=1)\n",
    "\n",
    "speed = merge_csv_flow(\n",
    "    '/Users/zonghe/Library/CloudStorage/OneDrive-UniversityCollegeLondon/Zonghe Ma/Zonghe Ma-STA-Investigating the relationship between modal shifting and road transport resilience under Tube strikes/Raw data/Traffic flow with speed')\n",
    "speed = speed.groupby(['travel_mode', 'toid', 'date']).agg({'speed_overall': 'mean'}).reset_index()\n",
    "speed = speed.pivot(index=['toid', 'travel_mode'], columns='date', values='speed_overall').reset_index()\n",
    "speed.rename(columns={'03/01/22': 'speed_03/01/22', '02/22/22': 'speed_02/22/22', '03/08/22': 'speed_03/08/22'},\n",
    "             inplace=True)\n",
    "\n",
    "columns_to_sum = ['speed_03/01/22', 'speed_02/22/22', 'speed_03/08/22']\n",
    "toid_mode_totals = speed.groupby(['toid', 'travel_mode'])[columns_to_sum].sum().reset_index()\n",
    "\n",
    "# 创建一个包含 'total' 行的 DataFrame\n",
    "total_row = toid_mode_totals.groupby('toid')[columns_to_sum].sum().reset_index()\n",
    "total_row['travel_mode'] = 'total'\n",
    "\n",
    "speed = pd.concat([toid_mode_totals, total_row], ignore_index=True)\n",
    "\n",
    "# Calculate the impact and recovery flows for one strike\n",
    "speed['impact_speed'] = speed['speed_03/01/22'] - speed['speed_02/22/22']\n",
    "speed['recovery_speed'] = speed['speed_03/08/22'] - speed['speed_03/01/22']\n",
    "\n",
    "speed['impact_speed_rate'] = speed.apply(\n",
    "    lambda row: round(row['impact_speed'] / row['speed_02/22/22'], 4) if row['speed_02/22/22'] != 0 else 0, axis=1)\n",
    "# Calculate recovery rate while avoiding division by zero\n",
    "speed['recovery_speed_rate'] = speed.apply(\n",
    "    lambda row: round(row['recovery_speed'] / row['speed_03/01/22'], 4) if row['speed_03/01/22'] != 0 else 0, axis=1)\n",
    "flows = pd.merge(flows, speed, left_on=['toid', 'mode'], right_on=['toid', 'travel_mode'], how='left')\n",
    "flows.drop(columns=['travel_mode'], inplace=True)\n",
    "\n",
    "All = flows.copy()\n",
    "All\n"
   ],
   "metadata": {
    "collapsed": false
   },
   "id": "928a9424326bf8b7",
   "execution_count": null
  },
  {
   "cell_type": "markdown",
   "source": [
    "# Indicators building"
   ],
   "metadata": {
    "collapsed": false
   },
   "id": "7a96514022334d29"
  },
  {
   "cell_type": "markdown",
   "source": [
    "## Individual behaviours"
   ],
   "metadata": {
    "collapsed": false
   },
   "id": "392db864697a4495"
  },
  {
   "cell_type": "markdown",
   "source": [
    "### Trip distance & Trip time"
   ],
   "metadata": {
    "collapsed": false
   },
   "id": "f95e84795cf958c6"
  },
  {
   "cell_type": "markdown",
   "source": [
    "#### per person"
   ],
   "metadata": {
    "collapsed": false
   },
   "id": "c8161ceea7b92041"
  },
  {
   "cell_type": "code",
   "outputs": [],
   "source": [
    "# Group by 'date' and 'update_mode', and aggregate 'time' and 'distance' by sum\n",
    "tripdistance_ppl = device_313_modes.groupby(['date','startid']).agg(time_sum=('time', 'sum'), distance_sum=('distance', 'sum')).reset_index()\n",
    "tripdistance_ppl[['time_sum', 'distance_sum']] = tripdistance_ppl[['time_sum', 'distance_sum']].round(2)\n",
    "\n",
    "\n",
    "# Calculating mean values and renaming columns\n",
    "tripdistance_ppl['time_mean'] = device_313_modes.groupby(['date','startid'])['time'].transform('mean').round(2)\n",
    "tripdistance_ppl['distance_mean'] = device_313_modes.groupby(['date','startid'])['distance'].transform('mean').round(2)\n",
    "\n",
    "tripdistance_ppl"
   ],
   "metadata": {
    "collapsed": false
   },
   "id": "de35be7d9d08e82d",
   "execution_count": null
  },
  {
   "cell_type": "markdown",
   "source": [
    "#### per mode"
   ],
   "metadata": {
    "collapsed": false
   },
   "id": "dc4498b890526f7d"
  },
  {
   "cell_type": "code",
   "outputs": [],
   "source": [
    "# Group by 'date' and 'update_mode', and aggregate 'time' and 'distance' by sum\n",
    "tripdistance_pm = device_313_modes.groupby(['date', 'update_mode']).agg(time_sum=('time', 'sum'), distance_sum=('distance', 'sum')).reset_index()\n",
    "tripdistance_pm[['time_sum', 'distance_sum']] = tripdistance_pm[['time_sum', 'distance_sum']].round(2)\n",
    "\n",
    "\n",
    "# Calculating mean values and renaming columns\n",
    "tripdistance_pm['time_mean'] = device_313_modes.groupby(['date', 'update_mode'])['time'].transform('mean').round(2)\n",
    "tripdistance_pm['distance_mean'] = device_313_modes.groupby(['date', 'update_mode'])['distance'].transform('mean').round(2)\n",
    "\n",
    "tripdistance_pm"
   ],
   "metadata": {
    "collapsed": false
   },
   "id": "830d3cd4b700a157",
   "execution_count": null
  },
  {
   "cell_type": "markdown",
   "source": [
    "#### 1111111 per OA"
   ],
   "metadata": {
    "collapsed": false
   },
   "id": "450b0496fc039589"
  },
  {
   "cell_type": "code",
   "outputs": [],
   "source": [
    "# merge dfs to aggrate in OA level\n",
    "device_313_merged = pd.merge(device_313_status, device_313_modes, on=['date','startid'], how='left')\n",
    "\n",
    "# Group by 'date' and 'oa21xd_x', and aggregate 'time' and 'distance' by sum\n",
    "tripdistance_oa = device_313_merged.groupby(['date', 'oa21cd']).agg(time_sum=('time', 'sum'), distance_sum=('distance', 'sum')).reset_index()\n",
    "tripdistance_oa[['time_sum', 'distance_sum']] = tripdistance_oa[['time_sum', 'distance_sum']].round(2)\n",
    "\n",
    "\n",
    "# Calculating mean values and renaming columns\n",
    "tripdistance_oa['time_mean'] = device_313_merged.groupby(['date', 'oa21cd'])['time'].transform('mean').round(2)\n",
    "tripdistance_oa['distance_mean'] = device_313_merged.groupby(['date', 'oa21cd'])['distance'].transform('mean').round(2)\n",
    "\n",
    "# calulations for device type\n",
    "# Count the occurrences of each device type\n",
    "device_type_counts = device_313_merged.groupby(['date', 'oa21cd', 'device_type']).size().reset_index(name='count')\n",
    "# Calculate the total count for each 'date' and 'oa21cd' group\n",
    "total_counts = device_type_counts.groupby(['date', 'oa21cd'])['count'].transform('sum')\n",
    "# Calculate the rate (percentage) for each device type\n",
    "device_type_counts['rate'] = (device_type_counts['count'] / total_counts) * 100\n",
    "\n",
    "# Pivot the data\n",
    "device_type_pivot = device_type_counts.pivot_table(index=['date', 'oa21cd'], columns='device_type', values='rate').reset_index()\n",
    "# Reset the column names\n",
    "device_type_pivot.columns.name = None\n",
    "device_type_pivot.columns = ['date', 'oa21cd'] + [f'rate_{device_type}' for device_type in device_type_pivot.columns[2:]]\n",
    "# Merge with tripdistance_oa\n",
    "tripdistance_oa = pd.merge(tripdistance_oa, device_type_pivot, on=['date', 'oa21cd'], how='left').round(4)\n",
    "tripdistance_oa['trip_rate'] = tripdistance_oa['rate_resident'] + tripdistance_oa['rate_passthrough']\n",
    "\n",
    "tripdistance_oa = pd.merge(tripdistance_oa, oa, on=['oa21cd'], how='left')\n",
    "tripdistance_oa = gpd.GeoDataFrame(tripdistance_oa, crs={'init': 'epsg:27700'}, geometry='geometry')\n",
    "\n",
    "tripdistance_oa"
   ],
   "metadata": {
    "collapsed": false
   },
   "id": "9ac85ca441fbf643",
   "execution_count": null
  },
  {
   "cell_type": "code",
   "outputs": [],
   "source": [
    "tripdistance_oa.plot(column='time_sum', cmap='coolwarm', legend=True, scheme= 'quantiles', k=5)\n",
    "plt.axis('off')"
   ],
   "metadata": {
    "collapsed": false
   },
   "id": "e53a2ab77fc865d9",
   "execution_count": null
  },
  {
   "cell_type": "markdown",
   "source": [
    "### Trip rate"
   ],
   "metadata": {
    "collapsed": false
   },
   "id": "489c658986226c42"
  },
  {
   "cell_type": "markdown",
   "source": [
    "#### per person"
   ],
   "metadata": {
    "collapsed": false
   },
   "id": "3c141de1412b1d12"
  },
  {
   "cell_type": "code",
   "outputs": [],
   "source": [
    "# the rate of trip counts: selecte the non-residents status rates from the device status dataset\n",
    "\n",
    "# Group by 'date' and then calculate the normalized value counts for each 'device_type'\n",
    "device_type_rate_ppl = device_313_status.groupby(['date','startid'])['device_type'].value_counts(normalize=True).unstack(fill_value=0)\n",
    "\n",
    "# Calculate the proportion of non-resident devices for each person by each date\n",
    "triprate_ppl = 1 - device_type_rate_ppl.get('resident', 0)\n",
    "\n",
    "triprate_ppl = pd.DataFrame(triprate_ppl).reset_index()\n",
    "triprate_ppl.rename({'resident': 'trip_rate'}, axis=1, inplace=True)\n",
    "\n",
    "triprate_ppl"
   ],
   "metadata": {
    "collapsed": false
   },
   "id": "d85abe85e769b399",
   "execution_count": null
  },
  {
   "cell_type": "markdown",
   "source": [
    "#### per mode"
   ],
   "metadata": {
    "collapsed": false
   },
   "id": "e637cc3711ff2c7f"
  },
  {
   "cell_type": "code",
   "outputs": [],
   "source": [
    "triprate_mode = device_313_merged.groupby(['date','startid'])['device_type'].value_counts(normalize=True).unstack(fill_value=0)"
   ],
   "metadata": {
    "collapsed": false
   },
   "id": "3cc4752314f6c585",
   "execution_count": null
  },
  {
   "cell_type": "markdown",
   "source": [
    "#### per OA"
   ],
   "metadata": {
    "collapsed": false
   },
   "id": "84acfadacee93ff2"
  },
  {
   "cell_type": "code",
   "outputs": [],
   "source": [
    "triprate_oa =tripdistance_oa[['date', 'oa21cd', 'trip_rate','geometry']].copy()\n",
    "triprate_oa"
   ],
   "metadata": {
    "collapsed": false
   },
   "id": "d176099dbbf4072b",
   "execution_count": null
  },
  {
   "cell_type": "code",
   "outputs": [],
   "source": [
    "tripdistance_oa.plot(column='trip_rate', cmap='coolwarm', legend=True, scheme= 'quantiles', k=5)\n",
    "plt.axis('off')"
   ],
   "metadata": {
    "collapsed": false
   },
   "id": "5301b09d58ce46d9",
   "execution_count": null
  },
  {
   "cell_type": "markdown",
   "source": [
    "### Travel time & distance"
   ],
   "metadata": {
    "collapsed": false
   },
   "id": "90e2caa1dd016e15"
  },
  {
   "cell_type": "code",
   "outputs": [],
   "source": [
    "# Group by 'date' and 'update_mode', and aggregate 'time' and 'distance' by sum\n",
    "travel = device_313_modes.groupby(['date']).agg(time_sum=('time', 'sum'), distance_sum=('distance', 'sum')).reset_index()\n",
    "travel[['time_sum', 'distance_sum']] = travel[['time_sum', 'distance_sum']].round(2)\n",
    "\n",
    "\n",
    "# Calculating mean values and renaming columns\n",
    "travel['time_mean'] = device_313_modes.groupby(['date','startid'])['time'].transform('mean').round(2)\n",
    "travel['distance_mean'] = device_313_modes.groupby(['date','startid'])['distance'].transform('mean').round(2)\n",
    "\n",
    "travel"
   ],
   "metadata": {
    "collapsed": false
   },
   "id": "bb6207fcf48a50d7",
   "execution_count": null
  },
  {
   "cell_type": "markdown",
   "source": [
    "### Travel rate"
   ],
   "metadata": {
    "collapsed": false
   },
   "id": "39d5366f5a881597"
  },
  {
   "cell_type": "code",
   "outputs": [],
   "source": [
    "# the rate of trip counts: selecte the non-residents status rates from the device status dataset\n",
    "\n",
    "# Group by 'date' and then calculate the normalized value counts for each 'device_type'\n",
    "device_type_rate_pd = device_313_status.groupby('date')['device_type'].value_counts(normalize=True).unstack(fill_value=0)\n",
    "\n",
    "# Calculate the proportion of non-resident devices for each date\n",
    "travelrate = 1 - device_type_rate_pd.get('resident', 0)\n",
    "\n",
    "travelrate\n"
   ],
   "metadata": {
    "collapsed": false
   },
   "id": "20d2083ad7d997ad",
   "execution_count": null
  },
  {
   "cell_type": "markdown",
   "source": [
    "## System performance"
   ],
   "metadata": {
    "collapsed": false
   },
   "id": "670362f05e97a320"
  },
  {
   "cell_type": "markdown",
   "source": [
    "### Flow change"
   ],
   "metadata": {
    "collapsed": false
   },
   "id": "4e4ec322950ea7b0"
  },
  {
   "cell_type": "markdown",
   "source": [
    "### Traffic congestion"
   ],
   "metadata": {
    "collapsed": false
   },
   "id": "dc9cf0e1d2ca5b67"
  },
  {
   "cell_type": "markdown",
   "source": [],
   "metadata": {
    "collapsed": false
   },
   "id": "a192de4f69d51431"
  }
 ],
 "metadata": {
  "kernelspec": {
   "display_name": "Python 3",
   "language": "python",
   "name": "python3"
  },
  "language_info": {
   "codemirror_mode": {
    "name": "ipython",
    "version": 2
   },
   "file_extension": ".py",
   "mimetype": "text/x-python",
   "name": "python",
   "nbconvert_exporter": "python",
   "pygments_lexer": "ipython2",
   "version": "2.7.6"
  }
 },
 "nbformat": 4,
 "nbformat_minor": 5
}
